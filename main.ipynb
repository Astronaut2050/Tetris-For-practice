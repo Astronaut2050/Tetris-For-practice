{
 "cells": [
  {
   "cell_type": "code",
   "execution_count": 1,
   "metadata": {},
   "outputs": [
    {
     "name": "stdout",
     "output_type": "stream",
     "text": [
      "pygame 2.5.1 (SDL 2.28.2, Python 3.9.16)\n",
      "Hello from the pygame community. https://www.pygame.org/contribute.html\n"
     ]
    }
   ],
   "source": [
    "from const import *\n",
    "import random\n",
    "import pygame"
   ]
  },
  {
   "cell_type": "code",
   "execution_count": 5,
   "metadata": {},
   "outputs": [],
   "source": [
    "class BlockGroup(object):\n",
    "    def GenerateBlockGroupConfig(rowIdx, colIdx):\n",
    "        shapeIdx = random.randint(0,len(BLOCK_SHAPE) - 1) # 形状\n",
    "        bType = random.randint(0,BlockType.BlockTypeMax - 1) # 方块颜色\n",
    "        rotIdx = random.randint(0,len(BLOCK_SHAPE[shapeIdx]) - 1) # 旋转\n",
    "        configlist = []\n",
    "        for x in range(len(BLOCK_SHAPE[shapeIdx][rotIdx])):\n",
    "            config = {\n",
    "                'blockType': bType,\n",
    "                'blockshape': shapeIdx,\n",
    "                'blockRot': rotIdx,\n",
    "                'blockGroupIdx': x,\n",
    "                'rowIdx' : rowIdx,\n",
    "                'colIdx' : colIdx\n",
    "            }\n",
    "            configlist.append(config)\n",
    "        return configlist\n",
    "    \n",
    "    def __init__(self, blockGroupType):\n",
    "        super().__init__()\n",
    "        self.blocks = [] # 方块组\n",
    "        self.blockGroupType = blockGroupType\n",
    "        self.time = 0\n",
    "        self.dropinterval = 0\n",
    "        self.isEliminating = False\n",
    "        self.pressTime = {} # 初始化各个按键的点击事件\n",
    "\n",
    "        # 消除状态函数\n",
    "    def setEliminate(self, el):\n",
    "        self.isEliminating = el\n",
    "    \n",
    "    def IsEliminating(self):\n",
    "        return self.isEliminating"
   ]
  },
  {
   "cell_type": "code",
   "execution_count": 7,
   "metadata": {},
   "outputs": [
    {
     "data": {
      "text/plain": [
       "False"
      ]
     },
     "execution_count": 7,
     "metadata": {},
     "output_type": "execute_result"
    }
   ],
   "source": [
    "a = BlockGroup(BlockGroupType.DROP)"
   ]
  },
  {
   "cell_type": "code",
   "execution_count": 8,
   "metadata": {},
   "outputs": [
    {
     "data": {
      "text/plain": [
       "<rect(-314, 0, 728, 353)>"
      ]
     },
     "execution_count": 8,
     "metadata": {},
     "output_type": "execute_result"
    }
   ],
   "source": [
    "a = pygame.image.load( \"pic/lose.png\" )\n",
    "b = a.get_rect()\n",
    "b.centerx = 50\n",
    "b"
   ]
  },
  {
   "cell_type": "code",
   "execution_count": 7,
   "metadata": {},
   "outputs": [
    {
     "data": {
      "text/plain": [
       "<rect(0, 0, 728, 353)>"
      ]
     },
     "execution_count": 7,
     "metadata": {},
     "output_type": "execute_result"
    }
   ],
   "source": [
    "a = pygame.image.load( \"pic/lose.png\" )\n",
    "b = a.get_rect()\n",
    "b"
   ]
  },
  {
   "cell_type": "code",
   "execution_count": null,
   "metadata": {},
   "outputs": [],
   "source": []
  }
 ],
 "metadata": {
  "kernelspec": {
   "display_name": "ABTEST",
   "language": "python",
   "name": "python3"
  },
  "language_info": {
   "codemirror_mode": {
    "name": "ipython",
    "version": 3
   },
   "file_extension": ".py",
   "mimetype": "text/x-python",
   "name": "python",
   "nbconvert_exporter": "python",
   "pygments_lexer": "ipython3",
   "version": "3.9.16"
  },
  "orig_nbformat": 4
 },
 "nbformat": 4,
 "nbformat_minor": 2
}
